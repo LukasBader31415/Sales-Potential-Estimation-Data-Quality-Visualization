{
 "cells": [
  {
   "cell_type": "code",
   "execution_count": null,
   "id": "dd4d997d-f7f2-4fa6-896b-7e04d2f56f1c",
   "metadata": {},
   "outputs": [],
   "source": [
    "import pandas as pd\n",
    "import numpy as np\n",
    "import pickle\n",
    "import os"
   ]
  },
  {
   "cell_type": "code",
   "execution_count": null,
   "id": "a6e7fd31-185f-4f7b-9d6e-c7d4ff767d2e",
   "metadata": {},
   "outputs": [],
   "source": [
    "from my_functions.functions_feature_selection import LoadConsumptionData, OccupationDataProcessor, PatternDataProcessor, Prioritization, MasterDFBuilder, FeatureAggregator"
   ]
  },
  {
   "cell_type": "markdown",
   "id": "88d6a6ce-f37d-4b47-bd74-db1573b4835e",
   "metadata": {},
   "source": [
    "# Load data"
   ]
  },
  {
   "cell_type": "markdown",
   "id": "4a766e91-40c5-487c-a4ff-3c7c86131bf0",
   "metadata": {},
   "source": [
    "## county information"
   ]
  },
  {
   "cell_type": "code",
   "execution_count": null,
   "id": "97b741a7-178e-4d18-a23a-ace48dc6dbf8",
   "metadata": {},
   "outputs": [],
   "source": [
    "path = 'data/original_data/pkl/county_information.pkl'\n",
    "with open(path, 'rb') as file:\n",
    "    county_information = pickle.load(file)\n",
    "print(county_information['FIPS'].nunique())\n",
    "county_information.head()"
   ]
  },
  {
   "cell_type": "markdown",
   "id": "3e6dfdfb-b392-4b37-a805-80258b589d3e",
   "metadata": {},
   "source": [
    "## tool consumption"
   ]
  },
  {
   "cell_type": "code",
   "execution_count": null,
   "id": "ae6e1868-2a58-4110-be77-6417d44c2143",
   "metadata": {},
   "outputs": [],
   "source": [
    "file_path = 'data/processed_data/pkl/tool_consumption_results.pkl'\n",
    "consumption_data = LoadConsumptionData(file_path)  # Load the consumption data from the specified file\n",
    "\n",
    "tool_consumption_industry = consumption_data.process_tool_consumption_industry()  # Process tool consumption by industry\n",
    "tool_consumption_occupation = consumption_data.tool_consumption_occupation  # Process tool consumption by occupation"
   ]
  },
  {
   "cell_type": "code",
   "execution_count": null,
   "id": "1fbe213c-ac4d-489e-8c41-5f66efb9af33",
   "metadata": {},
   "outputs": [],
   "source": [
    "tool_consumption_industry.head()"
   ]
  },
  {
   "cell_type": "code",
   "execution_count": null,
   "id": "44cb1302-6196-4c32-a486-c3093faa8b02",
   "metadata": {},
   "outputs": [],
   "source": [
    "tool_consumption_occupation.head()"
   ]
  },
  {
   "cell_type": "markdown",
   "id": "55955c4e-175f-4be5-81e6-571bf18cd16e",
   "metadata": {},
   "source": [
    "## occupation data"
   ]
  },
  {
   "cell_type": "code",
   "execution_count": null,
   "id": "c0ddcf76-82a2-4984-9dd2-527f76bda05b",
   "metadata": {},
   "outputs": [],
   "source": [
    "# Initialize the OccupationDataProcessor with the cleaned data and tool consumption by occupation\n",
    "\n",
    "processor = OccupationDataProcessor(\"data/processed_data/pkl/df_cleaned.pickle\", tool_consumption_occupation)\n",
    "occupation_data_final, naics_emp_relevant_occupations, original_occupation_df  = processor.process_occupation_data()  # Process the occupation data\n",
    "occupation_data_final.head()  # Display the first few rows of the processed occupation data"
   ]
  },
  {
   "cell_type": "markdown",
   "id": "12b96db0-8c7d-4517-ae4f-5f8aff6abafb",
   "metadata": {},
   "source": [
    "## naics data"
   ]
  },
  {
   "cell_type": "code",
   "execution_count": null,
   "id": "cfc826b8-97c9-471a-861d-db61d698a48f",
   "metadata": {},
   "outputs": [],
   "source": [
    "# Initialize the PatternDataProcessor with the pattern data, tool consumption by industry, and relevant occupations\n",
    "\n",
    "pattern_data_path = \"data/processed_data/pkl/df_pattern_4d_filtered.pickle\"\n",
    "processor = PatternDataProcessor(pattern_data_path, tool_consumption_industry, naics_emp_relevant_occupations)\n",
    "pattern_data_final, original_pattern_df = processor.process_pattern_data()  # Process the pattern data\n",
    "pattern_data_final.head()  # Display the first few rows of the processed pattern data"
   ]
  },
  {
   "cell_type": "markdown",
   "id": "73d4ede9-34b9-48ed-8201-c8ab91af25a6",
   "metadata": {},
   "source": [
    "# Prioritization"
   ]
  },
  {
   "cell_type": "markdown",
   "id": "84ef6f98-f7a3-4fc6-bafe-5089a4a379b7",
   "metadata": {},
   "source": [
    "## Occupation prioritization (SOC)"
   ]
  },
  {
   "cell_type": "code",
   "execution_count": null,
   "id": "4c809728-e2c3-4bee-9418-70989dd1eb41",
   "metadata": {},
   "outputs": [],
   "source": [
    "# This code initializes the 'Prioritization' class with two datasets: 'occupation_data_final' and 'pattern_data_final'.\n",
    "# Then, it calls the 'rank_occupation_columns' method to rank the occupation-related columns based on the prioritization logic.\n",
    "# Finally, it displays the first few rows of the ranked occupation data.\n",
    "\n",
    "prioritization = Prioritization(occupation_data_final, pattern_data_final)\n",
    "ranked_occupation_data = prioritization.rank_occupation_columns()\n",
    "ranked_occupation_data.head()"
   ]
  },
  {
   "cell_type": "code",
   "execution_count": null,
   "id": "5222170b-cd22-4a6b-895a-1f72c1219a18",
   "metadata": {},
   "outputs": [],
   "source": [
    "# This code defines a dictionary 'weight_dict' that assigns specific weights to various columns related to rankings.\n",
    "# The 'calculate_weighted_rank_sum' method of the 'prioritization' object is then called, passing in the ranked occupation data \n",
    "# and the weight dictionary, to compute a weighted sum of the ranks.\n",
    "# Finally, it displays the top 25 rows of the weighted ranked occupation data.\n",
    "\n",
    "weight_dict = {\n",
    "    'rank_emp_sum': 0.35,\n",
    "    'rank_unique_FIPS': 0.3,\n",
    "    'rank_consumption product 1': 0.0,\n",
    "    'rank_consumption product 2': 0.0,\n",
    "    'rank_consumption product 3': 0.0,\n",
    "    'rank_consumption product 4': 0.0,\n",
    "    'rank_consumption product 5': 0.0\n",
    "}\n",
    "\n",
    "ranked_occupation_data_weighted = prioritization.calculate_weighted_rank_sum(ranked_occupation_data, weight_dict)\n",
    "ranked_occupation_data_weighted.head(25)"
   ]
  },
  {
   "cell_type": "markdown",
   "id": "d39322a9-dde4-4964-ace5-9bac5436c9bc",
   "metadata": {},
   "source": [
    "## Industry prioritization (NAICS)"
   ]
  },
  {
   "cell_type": "code",
   "execution_count": null,
   "id": "ce789c55-f95a-43a5-bbce-348799fe1cea",
   "metadata": {},
   "outputs": [],
   "source": [
    "# This code initializes the 'Prioritization' class with two datasets: 'occupation_data_final' and 'pattern_data_final'.\n",
    "# It then calls the 'rank_pattern_columns' method to rank the pattern-related columns based on the prioritization logic.\n",
    "# Finally, it displays the first few rows of the ranked pattern data.\n",
    "\n",
    "prioritization = Prioritization(occupation_data_final, pattern_data_final)\n",
    "ranked_pattern_data  = prioritization.rank_pattern_columns()\n",
    "ranked_pattern_data.head()"
   ]
  },
  {
   "cell_type": "code",
   "execution_count": null,
   "id": "cfab56b3-891b-49bf-88d9-40c919f93257",
   "metadata": {},
   "outputs": [],
   "source": [
    "# This code defines a dictionary 'weight_dict' that assigns specific weights to various columns related to pattern rankings.\n",
    "# The 'calculate_weighted_rank_sum' method of the 'prioritization' object is called, passing in the ranked pattern data \n",
    "# and the weight dictionary, to compute a weighted sum of the ranks.\n",
    "# Finally, it displays the top 25 rows of the weighted ranked pattern data.\n",
    "\n",
    "weight_dict = {\n",
    "    'rank_emp_sum': 0.35,\n",
    "    'rank_est_sum': 0.1,\n",
    "    'rank_unique_FIPS': 0.3,\n",
    "    'rank_consumption product 1': 0.0,\n",
    "    'rank_consumption product 2': 0.0,\n",
    "    'rank_consumption product 3': 0.0,\n",
    "    'rank_consumption product 4': 0.0,\n",
    "    'rank_consumption product 5': 0.0\n",
    "}\n",
    "\n",
    "ranked_pattern_data_weighted = prioritization.calculate_weighted_rank_sum(ranked_pattern_data, weight_dict)\n",
    "ranked_pattern_data_weighted.head(25)"
   ]
  },
  {
   "cell_type": "markdown",
   "id": "d4a3e508-94a5-435a-abaa-53df56a98ab6",
   "metadata": {},
   "source": [
    "# Build master_df"
   ]
  },
  {
   "cell_type": "code",
   "execution_count": null,
   "id": "6208ef88-6613-4ac7-910c-75c844a40e68",
   "metadata": {},
   "outputs": [],
   "source": [
    "builder = MasterDFBuilder(original_occupation_df, original_pattern_df, county_information)"
   ]
  },
  {
   "cell_type": "code",
   "execution_count": null,
   "id": "664b9227-7253-4ae3-9234-178ced40d6ea",
   "metadata": {},
   "outputs": [],
   "source": [
    "# This code extracts the top 10 and the next 10 'OCC_CODE' values from the weighted ranked occupation data and stores them \n",
    "# in two separate lists: 'occ_top10' and 'occ_top10_20'.\n",
    "# It also defines two lists of NAICS codes: 'naics_top6' for the top 6 NAICS codes and 'naics_top_metall' for NAICS codes \n",
    "# related to the metallurgical industry.\n",
    "# Finally, it prints the contents of the 'occ_top10', 'occ_top10_20', 'naics_top6', and 'naics_top_metall' lists.\n",
    "\n",
    "#occ_top10 = ranked_occupation_data_weighted['OCC_CODE'][:10].tolist()\n",
    "occ_top10 = ['51-4121', '47-2221', '51-2041', '49-3021', '51-4041', '49-9041', '49-9071', '51-4081', '47-2211', '49-3031']\n",
    "#occ_top10_20 = ranked_occupation_data_weighted['OCC_CODE'][10:20].tolist()\n",
    "occ_top10_20 = ['51-4033', '49-3023', '47-2011', '51-4122', '51-9021', '51-4031', '49-3011', '51-4111', '51-9032', '49-9043']\n",
    "naics_top6 = ['2382','8111','3320A2','3330A1','3327','3363']\n",
    "naics_top_metall = ['3320A1','3335','3364','3362','3315','3366','2379','3336','3311','3314']\n",
    "print(occ_top10)\n",
    "print(occ_top10_20)\n",
    "print(naics_top6)\n",
    "print(naics_top_metall)"
   ]
  },
  {
   "cell_type": "code",
   "execution_count": null,
   "id": "23de6f68-9ed2-4f4f-986f-6660bf6c30b2",
   "metadata": {},
   "outputs": [],
   "source": [
    "# This code calls the 'build_master_df' method of the 'builder' object, passing in the previously defined lists of 'occ_top10', \n",
    "# 'occ_top10_20', 'naics_top6', and 'naics_top_metall'. It also specifies the path where the resulting master dataframe \n",
    "# should be saved as a pickle file ('processed_data/pkl/master_df.pkl').\n",
    "# The method returns the created master dataframe, which is then stored in the 'master_df' variable.\n",
    "\n",
    "master_df = builder.build_master_df(\n",
    "    occ_top10=occ_top10,\n",
    "    occ_top10_20=occ_top10_20,\n",
    "    naics_top6=naics_top6,\n",
    "    naics_top_metall=naics_top_metall,\n",
    "    save_path='data/processed_data/pkl/master_df.pkl'  # Ersetze 'path/to/' durch deinen gewünschten Dateipfad\n",
    ")\n",
    "master_df"
   ]
  },
  {
   "cell_type": "code",
   "execution_count": null,
   "id": "41acaadb-5e30-4a3f-b92f-0c149504ddae",
   "metadata": {},
   "outputs": [],
   "source": [
    "# This code defines a dictionary 'aggregate_columns' that maps column names to the corresponding columns in 'master_df' \n",
    "# and specifies the aggregation method ('sum'). The dictionary includes aggregations for different employee and establishment \n",
    "# data, divided by different occupation and NAICS categories.\n",
    "# The 'FeatureAggregator' class is then instantiated with the 'master_df' and a path to save the final dataframe.\n",
    "# The 'aggregate_columns' method of the 'FeatureAggregator' object is called to perform the aggregation based on the defined columns,\n",
    "# and the resulting aggregated dataframe is stored in the 'result_df' variable.\n",
    "\n",
    "\n",
    "aggregate_columns = {\n",
    "    'emp_top10_to_20': (master_df.columns[11:21].to_list(), 'sum'),\n",
    "    'total_emp_naics_top6': ([col for col in master_df.columns[21:33] if 'total_emp_naics' in col], 'sum'),\n",
    "    'total_est_naics_top6': ([col for col in master_df.columns[21:33] if 'total_est_naics' in col], 'sum'),\n",
    "    'total_emp_naics_metal': ([col for col in master_df.columns[33:53] if 'total_emp_naics' in col], 'sum'),\n",
    "    'total_est_naics_metal': ([col for col in master_df.columns[33:53] if 'total_est_naics' in col], 'sum'),\n",
    "}\n",
    "\n",
    "aggregator = FeatureAggregator(master_df, 'data/processed_data/pkl/final_df.pickle')\n",
    "result_df = aggregator.aggregate_columns(aggregate_columns)\n",
    "result_df"
   ]
  },
  {
   "cell_type": "code",
   "execution_count": null,
   "id": "1d2d2e5b-b51d-457c-ba2b-5daf89e32531",
   "metadata": {},
   "outputs": [],
   "source": []
  }
 ],
 "metadata": {
  "kernelspec": {
   "display_name": "py3.10-DM+TF-Klon",
   "language": "python",
   "name": "py3.10-dm-tf-cloned"
  },
  "language_info": {
   "codemirror_mode": {
    "name": "ipython",
    "version": 3
   },
   "file_extension": ".py",
   "mimetype": "text/x-python",
   "name": "python",
   "nbconvert_exporter": "python",
   "pygments_lexer": "ipython3",
   "version": "3.10.8"
  }
 },
 "nbformat": 4,
 "nbformat_minor": 5
}
