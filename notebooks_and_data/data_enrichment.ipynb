{
 "cells": [
  {
   "cell_type": "code",
   "execution_count": null,
   "id": "16ee980e-bdf9-49cf-aa3e-b61988047a46",
   "metadata": {},
   "outputs": [],
   "source": [
    "from openai import OpenAI\n",
    "import pandas as pd\n",
    "import os\n",
    "import json\n",
    "from my_functions.functions_data_enrichment import NaicsProcessor, JobInformationProcessor, ToolConsumptionProcessor, BatchProcessor"
   ]
  },
  {
   "cell_type": "code",
   "execution_count": null,
   "id": "60099f92-ca80-4de7-8532-9879e6422fde",
   "metadata": {},
   "outputs": [],
   "source": [
    "client = OpenAI(api_key=\"\")"
   ]
  },
  {
   "cell_type": "markdown",
   "id": "aad62fea-0f0d-4cde-a0ce-ca9ed279017e",
   "metadata": {},
   "source": [
    "# Load data"
   ]
  },
  {
   "cell_type": "code",
   "execution_count": null,
   "id": "d40fb5d0-e40b-43b3-9aa1-39a7c9440efc",
   "metadata": {},
   "outputs": [],
   "source": [
    "occupation_data = pd.read_pickle(\"data/processed_data/pkl/df_cleaned.pickle\")\n",
    "occupation_data"
   ]
  },
  {
   "cell_type": "code",
   "execution_count": null,
   "id": "8c23ba43-60d3-4c6d-b883-77855633a8dc",
   "metadata": {},
   "outputs": [],
   "source": [
    "df_occupation_industry = occupation_data.groupby(['OCC_CODE', 'OCC_TITLE', 'NAICS_CODE', 'NAICS_TITLE'])['emp_occupation'].sum().reset_index()\n",
    "df_occupation_industry"
   ]
  },
  {
   "cell_type": "code",
   "execution_count": null,
   "id": "1865e74c-cbd4-480a-b891-a8d42c4ec20f",
   "metadata": {},
   "outputs": [],
   "source": [
    "original_df = NaicsProcessor.expand_naics_and_split_value(df_occupation_industry, 'data/original_data/xlsx/occu.xlsx')\n",
    "original_df"
   ]
  },
  {
   "cell_type": "markdown",
   "id": "56422d90-fbad-4ad3-b2f6-e388af6bd6bf",
   "metadata": {},
   "source": [
    "# Industry specific job information"
   ]
  },
  {
   "cell_type": "code",
   "execution_count": null,
   "id": "676ce9d0-b3f7-4d16-ab83-ba224db7fff0",
   "metadata": {},
   "outputs": [],
   "source": [
    "# Create an instance of JobInformationProcessor with the original dataframe.\n",
    "# Generate job tasks and save them to a JSONL file at the specified path.\n",
    "\n",
    "job_processor = JobInformationProcessor(original_df)\n",
    "job_tasks = job_processor.generate_job_tasks(\"data/processed_data/json/job_tasks.jsonl\")"
   ]
  },
  {
   "cell_type": "code",
   "execution_count": null,
   "id": "5b8d1293-3352-4395-adcb-7b179a38a9cf",
   "metadata": {},
   "outputs": [],
   "source": [
    "len(job_tasks)"
   ]
  },
  {
   "cell_type": "code",
   "execution_count": null,
   "id": "95111401-5650-4715-bb6f-d00010b5d95a",
   "metadata": {},
   "outputs": [],
   "source": [
    "job_tasks[0]"
   ]
  },
  {
   "cell_type": "code",
   "execution_count": null,
   "id": "fc9a0b8a-4a13-42b9-b16d-d9ed3ec858a1",
   "metadata": {},
   "outputs": [],
   "source": [
    "# Process a batch using the batch_processor, specifying the client and file paths for job tasks, results, and batch ID.\n",
    "# The process_batch method generates results and stores them in the provided files.\n",
    "batch_processor = BatchProcessor()\n",
    "batch_id = batch_processor.process_batch(client, task_file_name = \"data/processed_data/json/job_tasks.jsonl\",\n",
    "                                         result_file_name=\"data/processed_data/json/job_results.jsonl\",\n",
    "                                         batch_id_file=\"data/processed_data/batch_ids/job_batch_id.txt\")"
   ]
  },
  {
   "cell_type": "code",
   "execution_count": null,
   "id": "87754c99-f435-4cca-a748-99343b7e2f6e",
   "metadata": {},
   "outputs": [],
   "source": [
    "# Load the saved batch ID from the specified file to retrieve the previously stored batch identifier.\n",
    "# The loaded batch ID is stored in the variable 'saved_batch_id'.\n",
    "\n",
    "saved_batch_id = batch_processor.load_batch_id(batch_id_file=\"data/processed_data/batch_ids/job_batch_id.txt\")\n",
    "saved_batch_id"
   ]
  },
  {
   "cell_type": "code",
   "execution_count": null,
   "id": "abe8f85a-2924-4b1a-b902-c19aecd27bbd",
   "metadata": {},
   "outputs": [],
   "source": [
    "# If a saved batch ID is available, resume processing by downloading the results associated with that batch.\n",
    "# The results are retrieved using the saved batch ID and stored in the specified result file.\n",
    "\n",
    "if saved_batch_id:\n",
    "    # After some time or later in the notebook, you can resume with the saved batch_id:\n",
    "    result_data = batch_processor.download_results(client, saved_batch_id, result_file_name=\"data/processed_data/json/job_results.jsonl\")\n",
    "       "
   ]
  },
  {
   "cell_type": "code",
   "execution_count": null,
   "id": "01578f3e-633b-4beb-a492-c98355ee3bab",
   "metadata": {},
   "outputs": [],
   "source": [
    "result_data[:1000]"
   ]
  },
  {
   "cell_type": "code",
   "execution_count": null,
   "id": "3051721a-e2a1-4dfe-9b41-752bb568fad7",
   "metadata": {},
   "outputs": [],
   "source": [
    "# Process the original DataFrame and save the results in both a JSONL file and a Pickle file.\n",
    "# The processed results are stored in 'job_results.jsonl' and 'job_results.pkl' for further use.\n",
    "\n",
    "result_df = batch_processor.process_and_save_results_job(\n",
    "    original_df,  # Beispiel für den originalen DataFrame\n",
    "    result_file_name=\"data/processed_data/json/job_results.jsonl\",  # Beispiel-Dateiname\n",
    "    pickle_file_name=\"data/processed_data/pkl/job_results.pkl\"  # Name der Pickle-Datei\n",
    ")"
   ]
  },
  {
   "cell_type": "code",
   "execution_count": null,
   "id": "f5005010-0e9d-465c-9a05-011f8a671b4c",
   "metadata": {},
   "outputs": [],
   "source": [
    "result_df"
   ]
  },
  {
   "cell_type": "markdown",
   "id": "4b0f0898-c4f4-49f4-a3ec-0b8874e7b79e",
   "metadata": {},
   "source": [
    "# Tool consumption estimation"
   ]
  },
  {
   "cell_type": "code",
   "execution_count": null,
   "id": "9dc478fe-3320-4db9-8237-d335cc0010ca",
   "metadata": {},
   "outputs": [],
   "source": [
    "# Load the processed job results from the Pickle file into a DataFrame.\n",
    "\n",
    "job_results = pd.read_pickle('data/processed_data/pkl/job_results.pkl')\n",
    "print(len(job_results))\n",
    "job_results.head(5)"
   ]
  },
  {
   "cell_type": "code",
   "execution_count": null,
   "id": "49be59d5-40c4-4fd0-bb3e-63880d092d9a",
   "metadata": {},
   "outputs": [],
   "source": [
    "# Create an instance of ToolConsumptionProcessor with the first 100 rows of the job results.\n",
    "# Generate tool consumption tasks and save them to a JSONL file at the specified path.\n",
    "\n",
    "tool_consunption_processor = ToolConsumptionProcessor(job_results)\n",
    "tool_consunption_tasks = tool_consunption_processor.generate_tool_consumption_tasks(task_file_path=\"data/processed_data/json/tool_consumption_tasks.jsonl\")"
   ]
  },
  {
   "cell_type": "code",
   "execution_count": null,
   "id": "9373cdf8-2ceb-440a-97c0-a644acdbc36a",
   "metadata": {},
   "outputs": [],
   "source": [
    "len(tool_consunption_tasks)"
   ]
  },
  {
   "cell_type": "code",
   "execution_count": null,
   "id": "81eae63d-d3a1-45d0-a750-1169cb2f7a56",
   "metadata": {},
   "outputs": [],
   "source": [
    "tool_consunption_tasks[0]"
   ]
  },
  {
   "cell_type": "code",
   "execution_count": null,
   "id": "46e1aa6b-dc72-4632-afa1-1a5799d0182a",
   "metadata": {},
   "outputs": [],
   "source": [
    "# Process a batch of tool consumption tasks using the batch_processor, specifying the task, result, and batch ID file paths.\n",
    "# The process_batch method generates results and stores them in the provided files, including the batch ID.\n",
    "\n",
    "batch_id = batch_processor.process_batch(client, task_file_name=\"data/processed_data/json/tool_consumption_tasks.jsonl\", \n",
    "                                         result_file_name=\"data/processed_data/json/tool_consumption_results.jsonl\",\n",
    "                                         batch_id_file=\"data/processed_data/batch_ids/tool_consumption_batch_id.txt\")"
   ]
  },
  {
   "cell_type": "code",
   "execution_count": null,
   "id": "bc1a28b3-4eed-48b6-858e-55eab0052a47",
   "metadata": {},
   "outputs": [],
   "source": [
    "# Load the saved batch ID from the specified file to retrieve the previously stored tool consumption batch identifier.\n",
    "# The loaded batch ID is stored in the variable 'saved_batch_id'.\n",
    "\n",
    "saved_batch_id = batch_processor.load_batch_id(batch_id_file=\"data/processed_data/batch_ids/tool_consumption_batch_id.txt\")\n",
    "saved_batch_id"
   ]
  },
  {
   "cell_type": "code",
   "execution_count": null,
   "id": "f0024b7e-c1cb-4a1f-bd99-119eeef40205",
   "metadata": {},
   "outputs": [],
   "source": [
    "if saved_batch_id:\n",
    "    # After some time or later in the notebook, you can resume with the saved batch_id:\n",
    "    result_data = batch_processor.download_results(client, saved_batch_id, result_file_name=\"data/processed_data/json/tool_consumption_results.jsonl\")"
   ]
  },
  {
   "cell_type": "code",
   "execution_count": null,
   "id": "1f377525-041b-4a8c-91a9-78151cd241d8",
   "metadata": {},
   "outputs": [],
   "source": [
    "# Define the file paths for the JSONL and Pickle files, and create an example DataFrame.\n",
    "# Call the process_and_save_results_tool_consumption method to process the tool consumption results and save them in the specified files.\n",
    "\n",
    "jsonl_file = \"data/processed_data/json/tool_consumption_results.jsonl\"\n",
    "pickle_file = \"data/processed_data/pkl/tool_consumption_results.pkl\"\n",
    "\n",
    "# Methode aufrufen\n",
    "df_tool_consumption = BatchProcessor.process_and_save_results_tool_consumption(jsonl_file, job_results, pickle_file)"
   ]
  },
  {
   "cell_type": "code",
   "execution_count": null,
   "id": "b7272e91-e87c-4001-94e8-c3ce616a0680",
   "metadata": {},
   "outputs": [],
   "source": [
    "df_tool_consumption"
   ]
  },
  {
   "cell_type": "code",
   "execution_count": null,
   "id": "270f5c04-0d54-48dc-ab4d-eebfdcd0a712",
   "metadata": {},
   "outputs": [],
   "source": []
  },
  {
   "cell_type": "code",
   "execution_count": null,
   "id": "352acbe3-b932-4967-97bd-66c48a42aa74",
   "metadata": {},
   "outputs": [],
   "source": []
  }
 ],
 "metadata": {
  "kernelspec": {
   "display_name": "py3.10-DM+TF-Klon",
   "language": "python",
   "name": "py3.10-dm-tf-cloned"
  },
  "language_info": {
   "codemirror_mode": {
    "name": "ipython",
    "version": 3
   },
   "file_extension": ".py",
   "mimetype": "text/x-python",
   "name": "python",
   "nbconvert_exporter": "python",
   "pygments_lexer": "ipython3",
   "version": "3.10.8"
  }
 },
 "nbformat": 4,
 "nbformat_minor": 5
}
